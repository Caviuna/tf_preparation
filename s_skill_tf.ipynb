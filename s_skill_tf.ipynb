{
  "nbformat": 4,
  "nbformat_minor": 0,
  "metadata": {
    "colab": {
      "name": "s_skill_tf.ipynb",
      "provenance": [],
      "authorship_tag": "ABX9TyO2mEt6pisON39nXT2MVh37"
    },
    "kernelspec": {
      "name": "python3",
      "display_name": "Python 3"
    },
    "language_info": {
      "name": "python"
    }
  },
  "cells": [
    {
      "cell_type": "markdown",
      "source": [
        "# Library and import TensorFlow - Setup"
      ],
      "metadata": {
        "id": "Lr3zf2RU3H_X"
      }
    },
    {
      "cell_type": "code",
      "execution_count": null,
      "metadata": {
        "colab": {
          "base_uri": "https://localhost:8080/"
        },
        "id": "ZkBl9O_nt_2A",
        "outputId": "45f6205d-fa5c-4369-bcb2-ea0e37345fa5"
      },
      "outputs": [
        {
          "output_type": "stream",
          "name": "stdout",
          "text": [
            "<module 'tensorflow._api.v2.version' from '/usr/local/lib/python3.7/dist-packages/tensorflow/_api/v2/version/__init__.py'>\n"
          ]
        }
      ],
      "source": [
        "%tensorflow_version 2.x \n",
        "import tensorflow as tf \n",
        "print(tf.version)"
      ]
    },
    {
      "cell_type": "markdown",
      "source": [
        "# Generate simple matrixs "
      ],
      "metadata": {
        "id": "KoXV-gs226sY"
      }
    },
    {
      "cell_type": "code",
      "source": [
        "t= tf.zeros([2, 2, 2, 2,])\n",
        "print(t)"
      ],
      "metadata": {
        "id": "j1zobmafuR-t"
      },
      "execution_count": null,
      "outputs": []
    },
    {
      "cell_type": "code",
      "source": [
        "t = tf.reshape(t, [16])\n",
        "print(t)"
      ],
      "metadata": {
        "id": "4Q212ryuunoV"
      },
      "execution_count": null,
      "outputs": []
    },
    {
      "cell_type": "code",
      "source": [
        "t = tf.reshape(t, [8, -1])\n",
        "print(t)"
      ],
      "metadata": {
        "id": "5Uz0m9wNvRhd"
      },
      "execution_count": null,
      "outputs": []
    },
    {
      "cell_type": "markdown",
      "source": [
        "# Sklearn install and import modules. "
      ],
      "metadata": {
        "id": "UeFGygZa4Kon"
      }
    },
    {
      "cell_type": "code",
      "source": [
        "!pip install -q sklearn "
      ],
      "metadata": {
        "id": "vZO89n4P411A"
      },
      "execution_count": 8,
      "outputs": []
    },
    {
      "cell_type": "code",
      "source": [
        "# %tensorflow_version 2.x  "
      ],
      "metadata": {
        "id": "cq0XllTD6XUg"
      },
      "execution_count": null,
      "outputs": []
    },
    {
      "cell_type": "code",
      "source": [
        "from __future__ import absolute_import, division, print_function, unicode_literals\n",
        "\n",
        "import numpy as np\n",
        "import pandas as pd\n",
        "import matplotlib.pyplot as plt\n",
        "from IPython.display import clear_output \n",
        "from six.moves import urllib "
      ],
      "metadata": {
        "id": "uvOLu20R5AS4"
      },
      "execution_count": 14,
      "outputs": []
    },
    {
      "cell_type": "code",
      "source": [
        "import tensorflow.compat.v2.feature_column as fc  "
      ],
      "metadata": {
        "id": "5fW09qs-6U1B"
      },
      "execution_count": 12,
      "outputs": []
    },
    {
      "cell_type": "code",
      "source": [
        "import tensorflow as tf "
      ],
      "metadata": {
        "id": "Y7B4OqlN6hOI"
      },
      "execution_count": 13,
      "outputs": []
    },
    {
      "cell_type": "markdown",
      "source": [
        "# Load dataset\n",
        "\n",
        "- trial import datasheet for explore and eval it using some built_in tools "
      ],
      "metadata": {
        "id": "CXpLmE1_-olR"
      }
    },
    {
      "cell_type": "code",
      "source": [
        "## - some examples for use \n",
        " \n",
        "# df_training =  pd.read_csv('/file_path/...')\n",
        "# df_eval  =  pd.read_csv('/file_path/...')\n",
        "# data_name.head()\n",
        "# y_train = data_name.pop('column_name')\n",
        "# y_eval = data_name.pop('column_name')\n",
        "# data_name.head()"
      ],
      "metadata": {
        "id": "LoArNgu9-oBx"
      },
      "execution_count": null,
      "outputs": []
    }
  ]
}